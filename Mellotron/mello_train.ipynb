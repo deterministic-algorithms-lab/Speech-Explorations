{
  "nbformat": 4,
  "nbformat_minor": 0,
  "metadata": {
    "colab": {
      "name": "mello-train.ipynb",
      "provenance": [],
      "collapsed_sections": [],
      "authorship_tag": "ABX9TyPbvY2I6AFoIdkheU3zd1qr",
      "include_colab_link": true
    },
    "kernelspec": {
      "name": "python3",
      "display_name": "Python 3"
    },
    "accelerator": "GPU"
  },
  "cells": [
    {
      "cell_type": "markdown",
      "metadata": {
        "id": "view-in-github",
        "colab_type": "text"
      },
      "source": [
        "<a href=\"https://colab.research.google.com/github/deterministic-algorithms-lab/Speech-Explorations/blob/master/Mellotron/mello_train.ipynb\" target=\"_parent\"><img src=\"https://colab.research.google.com/assets/colab-badge.svg\" alt=\"Open In Colab\"/></a>"
      ]
    },
    {
      "cell_type": "code",
      "metadata": {
        "id": "qdbK2pgoALHn",
        "colab_type": "code",
        "colab": {}
      },
      "source": [
        "# For making single speaker, single language dataset\n",
        "#!sed 's/$/|0/' ../sample_data/train_file.txt > ../sample_data/train_file1.txt  #For adding speaker number.\n",
        "#!sed 's/$/|0/' ../sample_data/train_file.txt > ../sample_data/train_file2.txt  #For adding Language number"
      ],
      "execution_count": null,
      "outputs": []
    },
    {
      "cell_type": "code",
      "metadata": {
        "id": "ualPngHaSrKu",
        "colab_type": "code",
        "colab": {}
      },
      "source": [
        "!git clone https://github.com/deterministic-algorithms-lab/Speech-Explorations/"
      ],
      "execution_count": null,
      "outputs": []
    },
    {
      "cell_type": "markdown",
      "metadata": {
        "id": "46k41EacRcsO",
        "colab_type": "text"
      },
      "source": [
        "# Training with transliteration to English"
      ]
    },
    {
      "cell_type": "code",
      "metadata": {
        "id": "2yOCLOtMTIc8",
        "colab_type": "code",
        "colab": {}
      },
      "source": [
        "!mkdir outdir\n",
        "!mkdir logdir"
      ],
      "execution_count": 2,
      "outputs": []
    },
    {
      "cell_type": "code",
      "metadata": {
        "id": "GimfIkavS4E_",
        "colab_type": "code",
        "colab": {}
      },
      "source": [
        "%cd Speech-Explorations/Mellotron/mellotron/"
      ],
      "execution_count": null,
      "outputs": []
    },
    {
      "cell_type": "code",
      "metadata": {
        "id": "moHsxlfValos",
        "colab_type": "code",
        "colab": {}
      },
      "source": [
        "# Changing paths\n",
        "%cd ../sample_data\n",
        "!sed 's+drive/My Drive/sample_data/+Speech-Explorations/Mellotron/sample_data/+' trans_audio.txt > trans_audio1.txt\n",
        "!sed 's+drive/My Drive/sample_data/+Speech-Explorations/Mellotron/sample_data/+' valid_trans_audio.txt > valid_trans_audio1.txt\n",
        "\n",
        "!rm trans_audio.txt\n",
        "!rm valid_trans_audio.txt\n",
        "\n",
        "!mv trans_audio1.txt trans_audio.txt\n",
        "!mv valid_trans_audio1.txt valid_trans_audio.txt\n",
        "%cd ../mellotron"
      ],
      "execution_count": null,
      "outputs": []
    },
    {
      "cell_type": "code",
      "metadata": {
        "id": "HJTlhQAvU_k1",
        "colab_type": "code",
        "colab": {}
      },
      "source": [
        "!pip install soundfile\n",
        "!pip install git+git://github.com/libindic/indic-trans.git\n",
        "!pip install unidecode\n",
        "!pip install tensorboardX\n",
        "!pip install librosa"
      ],
      "execution_count": null,
      "outputs": []
    },
    {
      "cell_type": "code",
      "metadata": {
        "id": "-XxAfj9nYAgH",
        "colab_type": "code",
        "colab": {}
      },
      "source": [
        "%tensorflow_version 1.12.0"
      ],
      "execution_count": null,
      "outputs": []
    },
    {
      "cell_type": "code",
      "metadata": {
        "id": "4XcbQ_8XLovP",
        "colab_type": "code",
        "colab": {}
      },
      "source": [
        "!python train.py --output_directory=../../../outdir --log_directory=../../../logdir --hparams=text_cleaners=['transliteration_cleaners'],batch_size=1"
      ],
      "execution_count": null,
      "outputs": []
    }
  ]
}